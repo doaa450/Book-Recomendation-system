{
  "nbformat": 4,
  "nbformat_minor": 0,
  "metadata": {
    "colab": {
      "provenance": [],
      "authorship_tag": "ABX9TyPIl6t+Lu50zFkL6XcjoBpT",
      "include_colab_link": true
    },
    "kernelspec": {
      "name": "python3",
      "display_name": "Python 3"
    },
    "language_info": {
      "name": "python"
    }
  },
  "cells": [
    {
      "cell_type": "markdown",
      "metadata": {
        "id": "view-in-github",
        "colab_type": "text"
      },
      "source": [
        "<a href=\"https://colab.research.google.com/github/doaa450/Book-Recomendation-system/blob/main/Book_Recommendation.ipynb\" target=\"_parent\"><img src=\"https://colab.research.google.com/assets/colab-badge.svg\" alt=\"Open In Colab\"/></a>"
      ]
    },
    {
      "cell_type": "code",
      "source": [
        "# Import Libraries\n",
        "import pandas as pd\n",
        "import csv"
      ],
      "metadata": {
        "id": "63GNfBGX8J0q"
      },
      "execution_count": null,
      "outputs": []
    },
    {
      "cell_type": "code",
      "source": [
        "df = pd.read_csv('/content/BX-Books.csv',quoting=csv.QUOTE_NONE,encoding='latin-1',sep=';',on_bad_lines='skip')\n",
        "df.head(10)"
      ],
      "metadata": {
        "colab": {
          "base_uri": "https://localhost:8080/",
          "height": 754
        },
        "id": "WG0h_dPIs6U5",
        "outputId": "ac7f0cea-0faf-45c5-dff7-832fccd33efe"
      },
      "execution_count": null,
      "outputs": [
        {
          "output_type": "execute_result",
          "data": {
            "text/plain": [
              "         \"ISBN                                     \"\"Book-Title\"\"  \\\n",
              "0  \"0195153448                            \"\"Classical Mythology\"\"   \n",
              "1  \"0002005018                                   \"\"Clara Callan\"\"   \n",
              "2  \"0060973129                           \"\"Decision in Normandy\"\"   \n",
              "3  \"0374157065  \"\"Flu: The Story of the Great Influenza Pandem...   \n",
              "4  \"0399135782                         \"\"The Kitchen God's Wife\"\"   \n",
              "5  \"0425176428  \"\"What If?: The World's Foremost Military Hist...   \n",
              "6  \"0671870432                                \"\"PLEADING GUILTY\"\"   \n",
              "7  \"0679425608  \"\"Under the Black Flag: The Romance and the Re...   \n",
              "8  \"074322678X        \"\"Where You'll Find Me: And Other Stories\"\"   \n",
              "9  \"0771074670                    \"\"Nights Below Station Street\"\"   \n",
              "\n",
              "            \"\"Book-Author\"\" \"\"Year-Of-Publication\"\"  \\\n",
              "0    \"\"Mark P. O. Morford\"\"                \"\"2002\"\"   \n",
              "1  \"\"Richard Bruce Wright\"\"                \"\"2001\"\"   \n",
              "2          \"\"Carlo D'Este\"\"                \"\"1991\"\"   \n",
              "3      \"\"Gina Bari Kolata\"\"                \"\"1999\"\"   \n",
              "4               \"\"Amy Tan\"\"                \"\"1991\"\"   \n",
              "5         \"\"Robert Cowley\"\"                \"\"2000\"\"   \n",
              "6           \"\"Scott Turow\"\"                \"\"1993\"\"   \n",
              "7       \"\"David Cordingly\"\"                \"\"1996\"\"   \n",
              "8           \"\"Ann Beattie\"\"                \"\"2002\"\"   \n",
              "9  \"\"David Adams Richards\"\"                \"\"1988\"\"   \n",
              "\n",
              "                  \"\"Publisher\"\"  \\\n",
              "0   \"\"Oxford University Press\"\"   \n",
              "1     \"\"HarperFlamingo Canada\"\"   \n",
              "2           \"\"HarperPerennial\"\"   \n",
              "3      \"\"Farrar Straus Giroux\"\"   \n",
              "4          \"\"Putnam Pub Group\"\"   \n",
              "5  \"\"Berkley Publishing Group\"\"   \n",
              "6                \"\"Audioworks\"\"   \n",
              "7              \"\"Random House\"\"   \n",
              "8                  \"\"Scribner\"\"   \n",
              "9           \"\"Emblem Editions\"\"   \n",
              "\n",
              "                                     \"\"Image-URL-S\"\"  \\\n",
              "0  \"\"http://images.amazon.com/images/P/0195153448...   \n",
              "1  \"\"http://images.amazon.com/images/P/0002005018...   \n",
              "2  \"\"http://images.amazon.com/images/P/0060973129...   \n",
              "3  \"\"http://images.amazon.com/images/P/0374157065...   \n",
              "4  \"\"http://images.amazon.com/images/P/0399135782...   \n",
              "5  \"\"http://images.amazon.com/images/P/0425176428...   \n",
              "6  \"\"http://images.amazon.com/images/P/0671870432...   \n",
              "7  \"\"http://images.amazon.com/images/P/0679425608...   \n",
              "8  \"\"http://images.amazon.com/images/P/074322678X...   \n",
              "9  \"\"http://images.amazon.com/images/P/0771074670...   \n",
              "\n",
              "                                     \"\"Image-URL-M\"\"  \\\n",
              "0  \"\"http://images.amazon.com/images/P/0195153448...   \n",
              "1  \"\"http://images.amazon.com/images/P/0002005018...   \n",
              "2  \"\"http://images.amazon.com/images/P/0060973129...   \n",
              "3  \"\"http://images.amazon.com/images/P/0374157065...   \n",
              "4  \"\"http://images.amazon.com/images/P/0399135782...   \n",
              "5  \"\"http://images.amazon.com/images/P/0425176428...   \n",
              "6  \"\"http://images.amazon.com/images/P/0671870432...   \n",
              "7  \"\"http://images.amazon.com/images/P/0679425608...   \n",
              "8  \"\"http://images.amazon.com/images/P/074322678X...   \n",
              "9  \"\"http://images.amazon.com/images/P/0771074670...   \n",
              "\n",
              "                            \"\"Image-URL-L\"\"\",,,,,,,,  \n",
              "0  \"\"http://images.amazon.com/images/P/0195153448...  \n",
              "1  \"\"http://images.amazon.com/images/P/0002005018...  \n",
              "2  \"\"http://images.amazon.com/images/P/0060973129...  \n",
              "3  \"\"http://images.amazon.com/images/P/0374157065...  \n",
              "4  \"\"http://images.amazon.com/images/P/0399135782...  \n",
              "5  \"\"http://images.amazon.com/images/P/0425176428...  \n",
              "6  \"\"http://images.amazon.com/images/P/0671870432...  \n",
              "7  \"\"http://images.amazon.com/images/P/0679425608...  \n",
              "8  \"\"http://images.amazon.com/images/P/074322678X...  \n",
              "9  \"\"http://images.amazon.com/images/P/0771074670...  "
            ],
            "text/html": [
              "\n",
              "  <div id=\"df-237ec393-ed06-466d-8b9d-b812bd421120\">\n",
              "    <div class=\"colab-df-container\">\n",
              "      <div>\n",
              "<style scoped>\n",
              "    .dataframe tbody tr th:only-of-type {\n",
              "        vertical-align: middle;\n",
              "    }\n",
              "\n",
              "    .dataframe tbody tr th {\n",
              "        vertical-align: top;\n",
              "    }\n",
              "\n",
              "    .dataframe thead th {\n",
              "        text-align: right;\n",
              "    }\n",
              "</style>\n",
              "<table border=\"1\" class=\"dataframe\">\n",
              "  <thead>\n",
              "    <tr style=\"text-align: right;\">\n",
              "      <th></th>\n",
              "      <th>\"ISBN</th>\n",
              "      <th>\"\"Book-Title\"\"</th>\n",
              "      <th>\"\"Book-Author\"\"</th>\n",
              "      <th>\"\"Year-Of-Publication\"\"</th>\n",
              "      <th>\"\"Publisher\"\"</th>\n",
              "      <th>\"\"Image-URL-S\"\"</th>\n",
              "      <th>\"\"Image-URL-M\"\"</th>\n",
              "      <th>\"\"Image-URL-L\"\"\",,,,,,,,</th>\n",
              "    </tr>\n",
              "  </thead>\n",
              "  <tbody>\n",
              "    <tr>\n",
              "      <th>0</th>\n",
              "      <td>\"0195153448</td>\n",
              "      <td>\"\"Classical Mythology\"\"</td>\n",
              "      <td>\"\"Mark P. O. Morford\"\"</td>\n",
              "      <td>\"\"2002\"\"</td>\n",
              "      <td>\"\"Oxford University Press\"\"</td>\n",
              "      <td>\"\"http://images.amazon.com/images/P/0195153448...</td>\n",
              "      <td>\"\"http://images.amazon.com/images/P/0195153448...</td>\n",
              "      <td>\"\"http://images.amazon.com/images/P/0195153448...</td>\n",
              "    </tr>\n",
              "    <tr>\n",
              "      <th>1</th>\n",
              "      <td>\"0002005018</td>\n",
              "      <td>\"\"Clara Callan\"\"</td>\n",
              "      <td>\"\"Richard Bruce Wright\"\"</td>\n",
              "      <td>\"\"2001\"\"</td>\n",
              "      <td>\"\"HarperFlamingo Canada\"\"</td>\n",
              "      <td>\"\"http://images.amazon.com/images/P/0002005018...</td>\n",
              "      <td>\"\"http://images.amazon.com/images/P/0002005018...</td>\n",
              "      <td>\"\"http://images.amazon.com/images/P/0002005018...</td>\n",
              "    </tr>\n",
              "    <tr>\n",
              "      <th>2</th>\n",
              "      <td>\"0060973129</td>\n",
              "      <td>\"\"Decision in Normandy\"\"</td>\n",
              "      <td>\"\"Carlo D'Este\"\"</td>\n",
              "      <td>\"\"1991\"\"</td>\n",
              "      <td>\"\"HarperPerennial\"\"</td>\n",
              "      <td>\"\"http://images.amazon.com/images/P/0060973129...</td>\n",
              "      <td>\"\"http://images.amazon.com/images/P/0060973129...</td>\n",
              "      <td>\"\"http://images.amazon.com/images/P/0060973129...</td>\n",
              "    </tr>\n",
              "    <tr>\n",
              "      <th>3</th>\n",
              "      <td>\"0374157065</td>\n",
              "      <td>\"\"Flu: The Story of the Great Influenza Pandem...</td>\n",
              "      <td>\"\"Gina Bari Kolata\"\"</td>\n",
              "      <td>\"\"1999\"\"</td>\n",
              "      <td>\"\"Farrar Straus Giroux\"\"</td>\n",
              "      <td>\"\"http://images.amazon.com/images/P/0374157065...</td>\n",
              "      <td>\"\"http://images.amazon.com/images/P/0374157065...</td>\n",
              "      <td>\"\"http://images.amazon.com/images/P/0374157065...</td>\n",
              "    </tr>\n",
              "    <tr>\n",
              "      <th>4</th>\n",
              "      <td>\"0399135782</td>\n",
              "      <td>\"\"The Kitchen God's Wife\"\"</td>\n",
              "      <td>\"\"Amy Tan\"\"</td>\n",
              "      <td>\"\"1991\"\"</td>\n",
              "      <td>\"\"Putnam Pub Group\"\"</td>\n",
              "      <td>\"\"http://images.amazon.com/images/P/0399135782...</td>\n",
              "      <td>\"\"http://images.amazon.com/images/P/0399135782...</td>\n",
              "      <td>\"\"http://images.amazon.com/images/P/0399135782...</td>\n",
              "    </tr>\n",
              "    <tr>\n",
              "      <th>5</th>\n",
              "      <td>\"0425176428</td>\n",
              "      <td>\"\"What If?: The World's Foremost Military Hist...</td>\n",
              "      <td>\"\"Robert Cowley\"\"</td>\n",
              "      <td>\"\"2000\"\"</td>\n",
              "      <td>\"\"Berkley Publishing Group\"\"</td>\n",
              "      <td>\"\"http://images.amazon.com/images/P/0425176428...</td>\n",
              "      <td>\"\"http://images.amazon.com/images/P/0425176428...</td>\n",
              "      <td>\"\"http://images.amazon.com/images/P/0425176428...</td>\n",
              "    </tr>\n",
              "    <tr>\n",
              "      <th>6</th>\n",
              "      <td>\"0671870432</td>\n",
              "      <td>\"\"PLEADING GUILTY\"\"</td>\n",
              "      <td>\"\"Scott Turow\"\"</td>\n",
              "      <td>\"\"1993\"\"</td>\n",
              "      <td>\"\"Audioworks\"\"</td>\n",
              "      <td>\"\"http://images.amazon.com/images/P/0671870432...</td>\n",
              "      <td>\"\"http://images.amazon.com/images/P/0671870432...</td>\n",
              "      <td>\"\"http://images.amazon.com/images/P/0671870432...</td>\n",
              "    </tr>\n",
              "    <tr>\n",
              "      <th>7</th>\n",
              "      <td>\"0679425608</td>\n",
              "      <td>\"\"Under the Black Flag: The Romance and the Re...</td>\n",
              "      <td>\"\"David Cordingly\"\"</td>\n",
              "      <td>\"\"1996\"\"</td>\n",
              "      <td>\"\"Random House\"\"</td>\n",
              "      <td>\"\"http://images.amazon.com/images/P/0679425608...</td>\n",
              "      <td>\"\"http://images.amazon.com/images/P/0679425608...</td>\n",
              "      <td>\"\"http://images.amazon.com/images/P/0679425608...</td>\n",
              "    </tr>\n",
              "    <tr>\n",
              "      <th>8</th>\n",
              "      <td>\"074322678X</td>\n",
              "      <td>\"\"Where You'll Find Me: And Other Stories\"\"</td>\n",
              "      <td>\"\"Ann Beattie\"\"</td>\n",
              "      <td>\"\"2002\"\"</td>\n",
              "      <td>\"\"Scribner\"\"</td>\n",
              "      <td>\"\"http://images.amazon.com/images/P/074322678X...</td>\n",
              "      <td>\"\"http://images.amazon.com/images/P/074322678X...</td>\n",
              "      <td>\"\"http://images.amazon.com/images/P/074322678X...</td>\n",
              "    </tr>\n",
              "    <tr>\n",
              "      <th>9</th>\n",
              "      <td>\"0771074670</td>\n",
              "      <td>\"\"Nights Below Station Street\"\"</td>\n",
              "      <td>\"\"David Adams Richards\"\"</td>\n",
              "      <td>\"\"1988\"\"</td>\n",
              "      <td>\"\"Emblem Editions\"\"</td>\n",
              "      <td>\"\"http://images.amazon.com/images/P/0771074670...</td>\n",
              "      <td>\"\"http://images.amazon.com/images/P/0771074670...</td>\n",
              "      <td>\"\"http://images.amazon.com/images/P/0771074670...</td>\n",
              "    </tr>\n",
              "  </tbody>\n",
              "</table>\n",
              "</div>\n",
              "      <button class=\"colab-df-convert\" onclick=\"convertToInteractive('df-237ec393-ed06-466d-8b9d-b812bd421120')\"\n",
              "              title=\"Convert this dataframe to an interactive table.\"\n",
              "              style=\"display:none;\">\n",
              "        \n",
              "  <svg xmlns=\"http://www.w3.org/2000/svg\" height=\"24px\"viewBox=\"0 0 24 24\"\n",
              "       width=\"24px\">\n",
              "    <path d=\"M0 0h24v24H0V0z\" fill=\"none\"/>\n",
              "    <path d=\"M18.56 5.44l.94 2.06.94-2.06 2.06-.94-2.06-.94-.94-2.06-.94 2.06-2.06.94zm-11 1L8.5 8.5l.94-2.06 2.06-.94-2.06-.94L8.5 2.5l-.94 2.06-2.06.94zm10 10l.94 2.06.94-2.06 2.06-.94-2.06-.94-.94-2.06-.94 2.06-2.06.94z\"/><path d=\"M17.41 7.96l-1.37-1.37c-.4-.4-.92-.59-1.43-.59-.52 0-1.04.2-1.43.59L10.3 9.45l-7.72 7.72c-.78.78-.78 2.05 0 2.83L4 21.41c.39.39.9.59 1.41.59.51 0 1.02-.2 1.41-.59l7.78-7.78 2.81-2.81c.8-.78.8-2.07 0-2.86zM5.41 20L4 18.59l7.72-7.72 1.47 1.35L5.41 20z\"/>\n",
              "  </svg>\n",
              "      </button>\n",
              "      \n",
              "  <style>\n",
              "    .colab-df-container {\n",
              "      display:flex;\n",
              "      flex-wrap:wrap;\n",
              "      gap: 12px;\n",
              "    }\n",
              "\n",
              "    .colab-df-convert {\n",
              "      background-color: #E8F0FE;\n",
              "      border: none;\n",
              "      border-radius: 50%;\n",
              "      cursor: pointer;\n",
              "      display: none;\n",
              "      fill: #1967D2;\n",
              "      height: 32px;\n",
              "      padding: 0 0 0 0;\n",
              "      width: 32px;\n",
              "    }\n",
              "\n",
              "    .colab-df-convert:hover {\n",
              "      background-color: #E2EBFA;\n",
              "      box-shadow: 0px 1px 2px rgba(60, 64, 67, 0.3), 0px 1px 3px 1px rgba(60, 64, 67, 0.15);\n",
              "      fill: #174EA6;\n",
              "    }\n",
              "\n",
              "    [theme=dark] .colab-df-convert {\n",
              "      background-color: #3B4455;\n",
              "      fill: #D2E3FC;\n",
              "    }\n",
              "\n",
              "    [theme=dark] .colab-df-convert:hover {\n",
              "      background-color: #434B5C;\n",
              "      box-shadow: 0px 1px 3px 1px rgba(0, 0, 0, 0.15);\n",
              "      filter: drop-shadow(0px 1px 2px rgba(0, 0, 0, 0.3));\n",
              "      fill: #FFFFFF;\n",
              "    }\n",
              "  </style>\n",
              "\n",
              "      <script>\n",
              "        const buttonEl =\n",
              "          document.querySelector('#df-237ec393-ed06-466d-8b9d-b812bd421120 button.colab-df-convert');\n",
              "        buttonEl.style.display =\n",
              "          google.colab.kernel.accessAllowed ? 'block' : 'none';\n",
              "\n",
              "        async function convertToInteractive(key) {\n",
              "          const element = document.querySelector('#df-237ec393-ed06-466d-8b9d-b812bd421120');\n",
              "          const dataTable =\n",
              "            await google.colab.kernel.invokeFunction('convertToInteractive',\n",
              "                                                     [key], {});\n",
              "          if (!dataTable) return;\n",
              "\n",
              "          const docLinkHtml = 'Like what you see? Visit the ' +\n",
              "            '<a target=\"_blank\" href=https://colab.research.google.com/notebooks/data_table.ipynb>data table notebook</a>'\n",
              "            + ' to learn more about interactive tables.';\n",
              "          element.innerHTML = '';\n",
              "          dataTable['output_type'] = 'display_data';\n",
              "          await google.colab.output.renderOutput(dataTable, element);\n",
              "          const docLink = document.createElement('div');\n",
              "          docLink.innerHTML = docLinkHtml;\n",
              "          element.appendChild(docLink);\n",
              "        }\n",
              "      </script>\n",
              "    </div>\n",
              "  </div>\n",
              "  "
            ]
          },
          "metadata": {},
          "execution_count": 2
        }
      ]
    },
    {
      "cell_type": "code",
      "source": [
        "df.info()"
      ],
      "metadata": {
        "colab": {
          "base_uri": "https://localhost:8080/"
        },
        "id": "YHm7eY7fx9aX",
        "outputId": "74cff886-f614-4142-bc54-3418d6894122"
      },
      "execution_count": null,
      "outputs": [
        {
          "output_type": "stream",
          "name": "stdout",
          "text": [
            "<class 'pandas.core.frame.DataFrame'>\n",
            "RangeIndex: 14143 entries, 0 to 14142\n",
            "Data columns (total 8 columns):\n",
            " #   Column                    Non-Null Count  Dtype \n",
            "---  ------                    --------------  ----- \n",
            " 0   \"ISBN                     14143 non-null  object\n",
            " 1   \"\"Book-Title\"\"            14143 non-null  object\n",
            " 2   \"\"Book-Author\"\"           14143 non-null  object\n",
            " 3   \"\"Year-Of-Publication\"\"   14143 non-null  object\n",
            " 4   \"\"Publisher\"\"             14143 non-null  object\n",
            " 5   \"\"Image-URL-S\"\"           14143 non-null  object\n",
            " 6   \"\"Image-URL-M\"\"           14143 non-null  object\n",
            " 7   \"\"Image-URL-L\"\"\",,,,,,,,  14143 non-null  object\n",
            "dtypes: object(8)\n",
            "memory usage: 884.1+ KB\n"
          ]
        }
      ]
    },
    {
      "cell_type": "markdown",
      "source": [
        "# Pre-processing Data to Build the Recommendation System"
      ],
      "metadata": {
        "id": "gntIoULsyN17"
      }
    },
    {
      "cell_type": "code",
      "source": [
        "#df = df['\"\"Book-Title\"\"'].astype('str')"
      ],
      "metadata": {
        "id": "eaKNCKgNzn0-"
      },
      "execution_count": null,
      "outputs": []
    },
    {
      "cell_type": "code",
      "source": [
        "type(df)"
      ],
      "metadata": {
        "colab": {
          "base_uri": "https://localhost:8080/"
        },
        "id": "LcX6kjLPBJ-s",
        "outputId": "a6d6f6f8-311d-4a28-a774-235c281937f1"
      },
      "execution_count": null,
      "outputs": [
        {
          "output_type": "execute_result",
          "data": {
            "text/plain": [
              "pandas.core.frame.DataFrame"
            ]
          },
          "metadata": {},
          "execution_count": 5
        }
      ]
    },
    {
      "cell_type": "code",
      "source": [
        "df=pd.DataFrame(df)"
      ],
      "metadata": {
        "id": "A20-x0ugBUfF"
      },
      "execution_count": null,
      "outputs": []
    },
    {
      "cell_type": "code",
      "source": [
        "type(df)"
      ],
      "metadata": {
        "colab": {
          "base_uri": "https://localhost:8080/"
        },
        "id": "8o1ldOcyBchA",
        "outputId": "9754b8ac-234b-4b38-856b-ad44114acd9b"
      },
      "execution_count": null,
      "outputs": [
        {
          "output_type": "execute_result",
          "data": {
            "text/plain": [
              "pandas.core.frame.DataFrame"
            ]
          },
          "metadata": {},
          "execution_count": 7
        }
      ]
    },
    {
      "cell_type": "code",
      "source": [
        "df.duplicated(subset=['\"\"Book-Title\"\"']).sum()"
      ],
      "metadata": {
        "colab": {
          "base_uri": "https://localhost:8080/"
        },
        "id": "AnThiuDGA1Bx",
        "outputId": "a0bd8407-a5dc-499a-8c43-e00ebad992bf"
      },
      "execution_count": null,
      "outputs": [
        {
          "output_type": "execute_result",
          "data": {
            "text/plain": [
              "765"
            ]
          },
          "metadata": {},
          "execution_count": 8
        }
      ]
    },
    {
      "cell_type": "code",
      "source": [
        "df = df.drop_duplicates(subset='\"\"Book-Title\"\"')"
      ],
      "metadata": {
        "id": "DO6cKTNiB3hF"
      },
      "execution_count": null,
      "outputs": []
    },
    {
      "cell_type": "code",
      "source": [
        "df.duplicated(subset=['\"\"Book-Title\"\"']).sum()"
      ],
      "metadata": {
        "colab": {
          "base_uri": "https://localhost:8080/"
        },
        "id": "cd5UMK85B82H",
        "outputId": "8e429126-74cd-419c-b150-ead2e799dd52"
      },
      "execution_count": null,
      "outputs": [
        {
          "output_type": "execute_result",
          "data": {
            "text/plain": [
              "0"
            ]
          },
          "metadata": {},
          "execution_count": 10
        }
      ]
    },
    {
      "cell_type": "markdown",
      "source": [
        "# Processing Text Data"
      ],
      "metadata": {
        "id": "7ZylfdOiCLW0"
      }
    },
    {
      "cell_type": "code",
      "source": [
        "df.head()"
      ],
      "metadata": {
        "colab": {
          "base_uri": "https://localhost:8080/",
          "height": 407
        },
        "id": "2He9s1bSCKHF",
        "outputId": "c64a7214-3727-4658-9f1f-2305ade69498"
      },
      "execution_count": null,
      "outputs": [
        {
          "output_type": "execute_result",
          "data": {
            "text/plain": [
              "         \"ISBN                                     \"\"Book-Title\"\"  \\\n",
              "0  \"0195153448                            \"\"Classical Mythology\"\"   \n",
              "1  \"0002005018                                   \"\"Clara Callan\"\"   \n",
              "2  \"0060973129                           \"\"Decision in Normandy\"\"   \n",
              "3  \"0374157065  \"\"Flu: The Story of the Great Influenza Pandem...   \n",
              "4  \"0399135782                         \"\"The Kitchen God's Wife\"\"   \n",
              "\n",
              "            \"\"Book-Author\"\" \"\"Year-Of-Publication\"\"  \\\n",
              "0    \"\"Mark P. O. Morford\"\"                \"\"2002\"\"   \n",
              "1  \"\"Richard Bruce Wright\"\"                \"\"2001\"\"   \n",
              "2          \"\"Carlo D'Este\"\"                \"\"1991\"\"   \n",
              "3      \"\"Gina Bari Kolata\"\"                \"\"1999\"\"   \n",
              "4               \"\"Amy Tan\"\"                \"\"1991\"\"   \n",
              "\n",
              "                 \"\"Publisher\"\"  \\\n",
              "0  \"\"Oxford University Press\"\"   \n",
              "1    \"\"HarperFlamingo Canada\"\"   \n",
              "2          \"\"HarperPerennial\"\"   \n",
              "3     \"\"Farrar Straus Giroux\"\"   \n",
              "4         \"\"Putnam Pub Group\"\"   \n",
              "\n",
              "                                     \"\"Image-URL-S\"\"  \\\n",
              "0  \"\"http://images.amazon.com/images/P/0195153448...   \n",
              "1  \"\"http://images.amazon.com/images/P/0002005018...   \n",
              "2  \"\"http://images.amazon.com/images/P/0060973129...   \n",
              "3  \"\"http://images.amazon.com/images/P/0374157065...   \n",
              "4  \"\"http://images.amazon.com/images/P/0399135782...   \n",
              "\n",
              "                                     \"\"Image-URL-M\"\"  \\\n",
              "0  \"\"http://images.amazon.com/images/P/0195153448...   \n",
              "1  \"\"http://images.amazon.com/images/P/0002005018...   \n",
              "2  \"\"http://images.amazon.com/images/P/0060973129...   \n",
              "3  \"\"http://images.amazon.com/images/P/0374157065...   \n",
              "4  \"\"http://images.amazon.com/images/P/0399135782...   \n",
              "\n",
              "                            \"\"Image-URL-L\"\"\",,,,,,,,  \n",
              "0  \"\"http://images.amazon.com/images/P/0195153448...  \n",
              "1  \"\"http://images.amazon.com/images/P/0002005018...  \n",
              "2  \"\"http://images.amazon.com/images/P/0060973129...  \n",
              "3  \"\"http://images.amazon.com/images/P/0374157065...  \n",
              "4  \"\"http://images.amazon.com/images/P/0399135782...  "
            ],
            "text/html": [
              "\n",
              "  <div id=\"df-ad119a77-c762-48d1-ad9f-9e4127355e20\">\n",
              "    <div class=\"colab-df-container\">\n",
              "      <div>\n",
              "<style scoped>\n",
              "    .dataframe tbody tr th:only-of-type {\n",
              "        vertical-align: middle;\n",
              "    }\n",
              "\n",
              "    .dataframe tbody tr th {\n",
              "        vertical-align: top;\n",
              "    }\n",
              "\n",
              "    .dataframe thead th {\n",
              "        text-align: right;\n",
              "    }\n",
              "</style>\n",
              "<table border=\"1\" class=\"dataframe\">\n",
              "  <thead>\n",
              "    <tr style=\"text-align: right;\">\n",
              "      <th></th>\n",
              "      <th>\"ISBN</th>\n",
              "      <th>\"\"Book-Title\"\"</th>\n",
              "      <th>\"\"Book-Author\"\"</th>\n",
              "      <th>\"\"Year-Of-Publication\"\"</th>\n",
              "      <th>\"\"Publisher\"\"</th>\n",
              "      <th>\"\"Image-URL-S\"\"</th>\n",
              "      <th>\"\"Image-URL-M\"\"</th>\n",
              "      <th>\"\"Image-URL-L\"\"\",,,,,,,,</th>\n",
              "    </tr>\n",
              "  </thead>\n",
              "  <tbody>\n",
              "    <tr>\n",
              "      <th>0</th>\n",
              "      <td>\"0195153448</td>\n",
              "      <td>\"\"Classical Mythology\"\"</td>\n",
              "      <td>\"\"Mark P. O. Morford\"\"</td>\n",
              "      <td>\"\"2002\"\"</td>\n",
              "      <td>\"\"Oxford University Press\"\"</td>\n",
              "      <td>\"\"http://images.amazon.com/images/P/0195153448...</td>\n",
              "      <td>\"\"http://images.amazon.com/images/P/0195153448...</td>\n",
              "      <td>\"\"http://images.amazon.com/images/P/0195153448...</td>\n",
              "    </tr>\n",
              "    <tr>\n",
              "      <th>1</th>\n",
              "      <td>\"0002005018</td>\n",
              "      <td>\"\"Clara Callan\"\"</td>\n",
              "      <td>\"\"Richard Bruce Wright\"\"</td>\n",
              "      <td>\"\"2001\"\"</td>\n",
              "      <td>\"\"HarperFlamingo Canada\"\"</td>\n",
              "      <td>\"\"http://images.amazon.com/images/P/0002005018...</td>\n",
              "      <td>\"\"http://images.amazon.com/images/P/0002005018...</td>\n",
              "      <td>\"\"http://images.amazon.com/images/P/0002005018...</td>\n",
              "    </tr>\n",
              "    <tr>\n",
              "      <th>2</th>\n",
              "      <td>\"0060973129</td>\n",
              "      <td>\"\"Decision in Normandy\"\"</td>\n",
              "      <td>\"\"Carlo D'Este\"\"</td>\n",
              "      <td>\"\"1991\"\"</td>\n",
              "      <td>\"\"HarperPerennial\"\"</td>\n",
              "      <td>\"\"http://images.amazon.com/images/P/0060973129...</td>\n",
              "      <td>\"\"http://images.amazon.com/images/P/0060973129...</td>\n",
              "      <td>\"\"http://images.amazon.com/images/P/0060973129...</td>\n",
              "    </tr>\n",
              "    <tr>\n",
              "      <th>3</th>\n",
              "      <td>\"0374157065</td>\n",
              "      <td>\"\"Flu: The Story of the Great Influenza Pandem...</td>\n",
              "      <td>\"\"Gina Bari Kolata\"\"</td>\n",
              "      <td>\"\"1999\"\"</td>\n",
              "      <td>\"\"Farrar Straus Giroux\"\"</td>\n",
              "      <td>\"\"http://images.amazon.com/images/P/0374157065...</td>\n",
              "      <td>\"\"http://images.amazon.com/images/P/0374157065...</td>\n",
              "      <td>\"\"http://images.amazon.com/images/P/0374157065...</td>\n",
              "    </tr>\n",
              "    <tr>\n",
              "      <th>4</th>\n",
              "      <td>\"0399135782</td>\n",
              "      <td>\"\"The Kitchen God's Wife\"\"</td>\n",
              "      <td>\"\"Amy Tan\"\"</td>\n",
              "      <td>\"\"1991\"\"</td>\n",
              "      <td>\"\"Putnam Pub Group\"\"</td>\n",
              "      <td>\"\"http://images.amazon.com/images/P/0399135782...</td>\n",
              "      <td>\"\"http://images.amazon.com/images/P/0399135782...</td>\n",
              "      <td>\"\"http://images.amazon.com/images/P/0399135782...</td>\n",
              "    </tr>\n",
              "  </tbody>\n",
              "</table>\n",
              "</div>\n",
              "      <button class=\"colab-df-convert\" onclick=\"convertToInteractive('df-ad119a77-c762-48d1-ad9f-9e4127355e20')\"\n",
              "              title=\"Convert this dataframe to an interactive table.\"\n",
              "              style=\"display:none;\">\n",
              "        \n",
              "  <svg xmlns=\"http://www.w3.org/2000/svg\" height=\"24px\"viewBox=\"0 0 24 24\"\n",
              "       width=\"24px\">\n",
              "    <path d=\"M0 0h24v24H0V0z\" fill=\"none\"/>\n",
              "    <path d=\"M18.56 5.44l.94 2.06.94-2.06 2.06-.94-2.06-.94-.94-2.06-.94 2.06-2.06.94zm-11 1L8.5 8.5l.94-2.06 2.06-.94-2.06-.94L8.5 2.5l-.94 2.06-2.06.94zm10 10l.94 2.06.94-2.06 2.06-.94-2.06-.94-.94-2.06-.94 2.06-2.06.94z\"/><path d=\"M17.41 7.96l-1.37-1.37c-.4-.4-.92-.59-1.43-.59-.52 0-1.04.2-1.43.59L10.3 9.45l-7.72 7.72c-.78.78-.78 2.05 0 2.83L4 21.41c.39.39.9.59 1.41.59.51 0 1.02-.2 1.41-.59l7.78-7.78 2.81-2.81c.8-.78.8-2.07 0-2.86zM5.41 20L4 18.59l7.72-7.72 1.47 1.35L5.41 20z\"/>\n",
              "  </svg>\n",
              "      </button>\n",
              "      \n",
              "  <style>\n",
              "    .colab-df-container {\n",
              "      display:flex;\n",
              "      flex-wrap:wrap;\n",
              "      gap: 12px;\n",
              "    }\n",
              "\n",
              "    .colab-df-convert {\n",
              "      background-color: #E8F0FE;\n",
              "      border: none;\n",
              "      border-radius: 50%;\n",
              "      cursor: pointer;\n",
              "      display: none;\n",
              "      fill: #1967D2;\n",
              "      height: 32px;\n",
              "      padding: 0 0 0 0;\n",
              "      width: 32px;\n",
              "    }\n",
              "\n",
              "    .colab-df-convert:hover {\n",
              "      background-color: #E2EBFA;\n",
              "      box-shadow: 0px 1px 2px rgba(60, 64, 67, 0.3), 0px 1px 3px 1px rgba(60, 64, 67, 0.15);\n",
              "      fill: #174EA6;\n",
              "    }\n",
              "\n",
              "    [theme=dark] .colab-df-convert {\n",
              "      background-color: #3B4455;\n",
              "      fill: #D2E3FC;\n",
              "    }\n",
              "\n",
              "    [theme=dark] .colab-df-convert:hover {\n",
              "      background-color: #434B5C;\n",
              "      box-shadow: 0px 1px 3px 1px rgba(0, 0, 0, 0.15);\n",
              "      filter: drop-shadow(0px 1px 2px rgba(0, 0, 0, 0.3));\n",
              "      fill: #FFFFFF;\n",
              "    }\n",
              "  </style>\n",
              "\n",
              "      <script>\n",
              "        const buttonEl =\n",
              "          document.querySelector('#df-ad119a77-c762-48d1-ad9f-9e4127355e20 button.colab-df-convert');\n",
              "        buttonEl.style.display =\n",
              "          google.colab.kernel.accessAllowed ? 'block' : 'none';\n",
              "\n",
              "        async function convertToInteractive(key) {\n",
              "          const element = document.querySelector('#df-ad119a77-c762-48d1-ad9f-9e4127355e20');\n",
              "          const dataTable =\n",
              "            await google.colab.kernel.invokeFunction('convertToInteractive',\n",
              "                                                     [key], {});\n",
              "          if (!dataTable) return;\n",
              "\n",
              "          const docLinkHtml = 'Like what you see? Visit the ' +\n",
              "            '<a target=\"_blank\" href=https://colab.research.google.com/notebooks/data_table.ipynb>data table notebook</a>'\n",
              "            + ' to learn more about interactive tables.';\n",
              "          element.innerHTML = '';\n",
              "          dataTable['output_type'] = 'display_data';\n",
              "          await google.colab.output.renderOutput(dataTable, element);\n",
              "          const docLink = document.createElement('div');\n",
              "          docLink.innerHTML = docLinkHtml;\n",
              "          element.appendChild(docLink);\n",
              "        }\n",
              "      </script>\n",
              "    </div>\n",
              "  </div>\n",
              "  "
            ]
          },
          "metadata": {},
          "execution_count": 11
        }
      ]
    },
    {
      "cell_type": "markdown",
      "source": [
        "# Data Cleaning"
      ],
      "metadata": {
        "id": "UC9bWWUnP1Ye"
      }
    },
    {
      "cell_type": "code",
      "source": [
        "def clean_text(author):\n",
        "    result = str(author).lower()\n",
        "    return(result.replace(' ',''))"
      ],
      "metadata": {
        "id": "8dhQAKSGDS-F"
      },
      "execution_count": null,
      "outputs": []
    },
    {
      "cell_type": "code",
      "source": [
        "df.columns"
      ],
      "metadata": {
        "colab": {
          "base_uri": "https://localhost:8080/"
        },
        "id": "fk5dhDCTH4gI",
        "outputId": "a057b640-e436-417b-e711-52c06bfd3424"
      },
      "execution_count": null,
      "outputs": [
        {
          "output_type": "execute_result",
          "data": {
            "text/plain": [
              "Index(['\"ISBN', '\"\"Book-Title\"\"', '\"\"Book-Author\"\"', '\"\"Year-Of-Publication\"\"',\n",
              "       '\"\"Publisher\"\"', '\"\"Image-URL-S\"\"', '\"\"Image-URL-M\"\"',\n",
              "       '\"\"Image-URL-L\"\"\",,,,,,,,'],\n",
              "      dtype='object')"
            ]
          },
          "metadata": {},
          "execution_count": 13
        }
      ]
    },
    {
      "cell_type": "code",
      "source": [
        "df['\"\"Book-Author\"\"' ] = df['\"\"Book-Author\"\"' ].apply(clean_text)"
      ],
      "metadata": {
        "colab": {
          "base_uri": "https://localhost:8080/"
        },
        "id": "QTHPTzaOHF65",
        "outputId": "3d988195-6718-4b67-8346-75282b5ea528"
      },
      "execution_count": null,
      "outputs": [
        {
          "output_type": "stream",
          "name": "stderr",
          "text": [
            "<ipython-input-14-76275766307b>:1: SettingWithCopyWarning: \n",
            "A value is trying to be set on a copy of a slice from a DataFrame.\n",
            "Try using .loc[row_indexer,col_indexer] = value instead\n",
            "\n",
            "See the caveats in the documentation: https://pandas.pydata.org/pandas-docs/stable/user_guide/indexing.html#returning-a-view-versus-a-copy\n",
            "  df['\"\"Book-Author\"\"' ] = df['\"\"Book-Author\"\"' ].apply(clean_text)\n"
          ]
        }
      ]
    },
    {
      "cell_type": "code",
      "source": [
        "df['\"\"Book-Title\"\"'] = df['\"\"Book-Title\"\"'].str.lower()\n",
        "df['\"\"Publisher\"\"'] = df['\"\"Publisher\"\"'].str.lower()"
      ],
      "metadata": {
        "colab": {
          "base_uri": "https://localhost:8080/"
        },
        "id": "3cixtE-FHi81",
        "outputId": "a8c5d0db-15a6-4cf0-e804-e11a30d1d44a"
      },
      "execution_count": null,
      "outputs": [
        {
          "output_type": "stream",
          "name": "stderr",
          "text": [
            "<ipython-input-15-0bec36ba77ec>:1: SettingWithCopyWarning: \n",
            "A value is trying to be set on a copy of a slice from a DataFrame.\n",
            "Try using .loc[row_indexer,col_indexer] = value instead\n",
            "\n",
            "See the caveats in the documentation: https://pandas.pydata.org/pandas-docs/stable/user_guide/indexing.html#returning-a-view-versus-a-copy\n",
            "  df['\"\"Book-Title\"\"'] = df['\"\"Book-Title\"\"'].str.lower()\n",
            "<ipython-input-15-0bec36ba77ec>:2: SettingWithCopyWarning: \n",
            "A value is trying to be set on a copy of a slice from a DataFrame.\n",
            "Try using .loc[row_indexer,col_indexer] = value instead\n",
            "\n",
            "See the caveats in the documentation: https://pandas.pydata.org/pandas-docs/stable/user_guide/indexing.html#returning-a-view-versus-a-copy\n",
            "  df['\"\"Publisher\"\"'] = df['\"\"Publisher\"\"'].str.lower()\n"
          ]
        }
      ]
    },
    {
      "cell_type": "code",
      "source": [
        "# combine all strings:\n",
        "df2 = df.drop(['\"ISBN', '\"\"Year-Of-Publication\"\"', '\"\"Image-URL-S\"\"', '\"\"Image-URL-M\"\"', '\"\"Image-URL-L\"\"\",,,,,,,,'],axis=1)\n",
        "\n",
        "df2['data'] = df2[df2.columns[1:]].apply(\n",
        "    lambda x: ' '.join(x.dropna().astype(str)),\n",
        "    axis=1\n",
        ")\n",
        "\n",
        "print(df2['data'].head())"
      ],
      "metadata": {
        "colab": {
          "base_uri": "https://localhost:8080/"
        },
        "id": "7CyaMHptIC33",
        "outputId": "999caa75-19ed-4b42-e3a9-60ea06cde778"
      },
      "execution_count": null,
      "outputs": [
        {
          "output_type": "stream",
          "name": "stdout",
          "text": [
            "0     \"\"markp.o.morford\"\" \"\"oxford university press\"\"\n",
            "1    \"\"richardbrucewright\"\" \"\"harperflamingo canada\"\"\n",
            "2                 \"\"carlod'este\"\" \"\"harperperennial\"\"\n",
            "3         \"\"ginabarikolata\"\" \"\"farrar straus giroux\"\"\n",
            "4                     \"\"amytan\"\" \"\"putnam pub group\"\"\n",
            "Name: data, dtype: object\n"
          ]
        }
      ]
    },
    {
      "cell_type": "code",
      "source": [
        "def clean (data):\n",
        "    result = str(data).lower()\n",
        "    return(result.replace('\"\"',''))"
      ],
      "metadata": {
        "id": "H2GE-a1dS7G7"
      },
      "execution_count": null,
      "outputs": []
    },
    {
      "cell_type": "code",
      "source": [
        "df2['data'] =df2['data'].apply(clean)"
      ],
      "metadata": {
        "id": "VjFlLaUvSwb4"
      },
      "execution_count": null,
      "outputs": []
    },
    {
      "cell_type": "code",
      "source": [
        "df2['data'].head()"
      ],
      "metadata": {
        "colab": {
          "base_uri": "https://localhost:8080/"
        },
        "id": "QOnCtGAQTclL",
        "outputId": "d1755380-f2f8-4d88-9cc6-eec5f46c3bc8"
      },
      "execution_count": null,
      "outputs": [
        {
          "output_type": "execute_result",
          "data": {
            "text/plain": [
              "0     markp.o.morford oxford university press\n",
              "1    richardbrucewright harperflamingo canada\n",
              "2                 carlod'este harperperennial\n",
              "3         ginabarikolata farrar straus giroux\n",
              "4                     amytan putnam pub group\n",
              "Name: data, dtype: object"
            ]
          },
          "metadata": {},
          "execution_count": 26
        }
      ]
    },
    {
      "cell_type": "code",
      "source": [
        "len(df2)"
      ],
      "metadata": {
        "colab": {
          "base_uri": "https://localhost:8080/"
        },
        "id": "yrCtXWjBKM4a",
        "outputId": "709ccc36-433b-4351-9416-8ba197b05429"
      },
      "execution_count": null,
      "outputs": [
        {
          "output_type": "execute_result",
          "data": {
            "text/plain": [
              "13378"
            ]
          },
          "metadata": {},
          "execution_count": 20
        }
      ]
    },
    {
      "cell_type": "markdown",
      "source": [
        "# Vectorize the Dataframe"
      ],
      "metadata": {
        "id": "bMGATpnNUORx"
      }
    },
    {
      "cell_type": "code",
      "source": [
        "from sklearn.feature_extraction.text import CountVectorizer\n",
        "\n",
        "vectorizer = CountVectorizer()\n",
        "vectorized = vectorizer.fit_transform(df2['data'])"
      ],
      "metadata": {
        "id": "yA0EuoSUKUL8"
      },
      "execution_count": null,
      "outputs": []
    },
    {
      "cell_type": "code",
      "source": [
        "from sklearn.metrics.pairwise import cosine_similarity\n",
        "\n",
        "similarities = cosine_similarity(vectorized)"
      ],
      "metadata": {
        "id": "bOsGwXDyKa9i"
      },
      "execution_count": null,
      "outputs": []
    },
    {
      "cell_type": "code",
      "source": [
        "print(similarities)"
      ],
      "metadata": {
        "colab": {
          "base_uri": "https://localhost:8080/"
        },
        "id": "mIvqdwu6KfCE",
        "outputId": "b4e321c0-95c7-423b-95a7-c0bad39db4b0"
      },
      "execution_count": null,
      "outputs": [
        {
          "output_type": "stream",
          "name": "stdout",
          "text": [
            "[[1.   0.   0.   ... 0.4  0.   0.  ]\n",
            " [0.   1.   0.   ... 0.   0.   0.  ]\n",
            " [0.   0.   1.   ... 0.   0.   0.  ]\n",
            " ...\n",
            " [0.4  0.   0.   ... 1.   0.   0.  ]\n",
            " [0.   0.   0.   ... 0.   1.   0.25]\n",
            " [0.   0.   0.   ... 0.   0.25 1.  ]]\n"
          ]
        }
      ]
    },
    {
      "cell_type": "code",
      "source": [
        "df = pd.DataFrame(similarities, columns=df['\"\"Book-Title\"\"'], index=df['\"\"Book-Title\"\"']).reset_index()\n",
        "\n",
        "df.head()"
      ],
      "metadata": {
        "colab": {
          "base_uri": "https://localhost:8080/",
          "height": 699
        },
        "id": "H07wXUoKKj3i",
        "outputId": "da13644b-243a-477b-ba01-f32c639e51ff"
      },
      "execution_count": null,
      "outputs": [
        {
          "output_type": "execute_result",
          "data": {
            "text/plain": [
              "\"\"Book-Title\"\"                                     \"\"Book-Title\"\"  \\\n",
              "0                                         \"\"classical mythology\"\"   \n",
              "1                                                \"\"clara callan\"\"   \n",
              "2                                        \"\"decision in normandy\"\"   \n",
              "3               \"\"flu: the story of the great influenza pandem...   \n",
              "4                                      \"\"the kitchen god's wife\"\"   \n",
              "\n",
              "\"\"Book-Title\"\"  \"\"classical mythology\"\"  \"\"clara callan\"\"  \\\n",
              "0                                   1.0               0.0   \n",
              "1                                   0.0               1.0   \n",
              "2                                   0.0               0.0   \n",
              "3                                   0.0               0.0   \n",
              "4                                   0.0               0.0   \n",
              "\n",
              "\"\"Book-Title\"\"  \"\"decision in normandy\"\"  \\\n",
              "0                                    0.0   \n",
              "1                                    0.0   \n",
              "2                                    1.0   \n",
              "3                                    0.0   \n",
              "4                                    0.0   \n",
              "\n",
              "\"\"Book-Title\"\"  \"\"flu: the story of the great influenza pandemic of 1918 and the search for the virus that caused it\"\"  \\\n",
              "0                                                             0.0                                                        \n",
              "1                                                             0.0                                                        \n",
              "2                                                             0.0                                                        \n",
              "3                                                             1.0                                                        \n",
              "4                                                             0.0                                                        \n",
              "\n",
              "\"\"Book-Title\"\"  \"\"the kitchen god's wife\"\"  \\\n",
              "0                                      0.0   \n",
              "1                                      0.0   \n",
              "2                                      0.0   \n",
              "3                                      0.0   \n",
              "4                                      1.0   \n",
              "\n",
              "\"\"Book-Title\"\"  \"\"what if?: the world's foremost military historians imagine what might have been\"\"  \\\n",
              "0                                                            0.00                                     \n",
              "1                                                            0.00                                     \n",
              "2                                                            0.00                                     \n",
              "3                                                            0.00                                     \n",
              "4                                                            0.25                                     \n",
              "\n",
              "\"\"Book-Title\"\"  \"\"pleading guilty\"\"  \\\n",
              "0                               0.0   \n",
              "1                               0.0   \n",
              "2                               0.0   \n",
              "3                               0.0   \n",
              "4                               0.0   \n",
              "\n",
              "\"\"Book-Title\"\"  \"\"under the black flag: the romance and the reality of life among the pirates\"\"  \\\n",
              "0                                                             0.0                                 \n",
              "1                                                             0.0                                 \n",
              "2                                                             0.0                                 \n",
              "3                                                             0.0                                 \n",
              "4                                                             0.0                                 \n",
              "\n",
              "\"\"Book-Title\"\"  \"\"where you'll find me: and other stories\"\"  ...  \\\n",
              "0                                                       0.0  ...   \n",
              "1                                                       0.0  ...   \n",
              "2                                                       0.0  ...   \n",
              "3                                                       0.0  ...   \n",
              "4                                                       0.0  ...   \n",
              "\n",
              "\"\"Book-Title\"\"  \"\"becoming a contagious christian participant's guide\"\"  \\\n",
              "0                                                             0.0         \n",
              "1                                                             0.0         \n",
              "2                                                             0.0         \n",
              "3                                                             0.0         \n",
              "4                                                             0.0         \n",
              "\n",
              "\"\"Book-Title\"\"  \"\"on the run\"\"  \"\"fire in the sun\"\"  \"\"a more perfect union\"\"  \\\n",
              "0                          0.0                  0.0                       0.0   \n",
              "1                          0.0                  0.0                       0.0   \n",
              "2                          0.0                  0.0                       0.0   \n",
              "3                          0.0                  0.0                       0.0   \n",
              "4                          0.0                  0.0                       0.0   \n",
              "\n",
              "\"\"Book-Title\"\"  \"\"tarnished icons: an inspector porfiry posntnikov novel (inspector porfiry rostnikov novel)\"\"  \\\n",
              "0                                                             0.0                                                \n",
              "1                                                             0.0                                                \n",
              "2                                                             0.0                                                \n",
              "3                                                             0.0                                                \n",
              "4                                                             0.0                                                \n",
              "\n",
              "\"\"Book-Title\"\"  \"\"for reading out loud!\"\"  \"\"brick lane: a novel\"\"  \\\n",
              "0                                     0.0                      0.0   \n",
              "1                                     0.0                      0.0   \n",
              "2                                     0.0                      0.0   \n",
              "3                                     0.0                      0.0   \n",
              "4                                     0.0                      0.0   \n",
              "\n",
              "\"\"Book-Title\"\"  \"\"gandhi's way: a handbook of conflict resolution\"\"  \\\n",
              "0                                                             0.4     \n",
              "1                                                             0.0     \n",
              "2                                                             0.0     \n",
              "3                                                             0.0     \n",
              "4                                                             0.0     \n",
              "\n",
              "\"\"Book-Title\"\"  \"\"cowboy\"\"  \"\"the barbarians are coming: a novel\"\"  \n",
              "0                      0.0                                     0.0  \n",
              "1                      0.0                                     0.0  \n",
              "2                      0.0                                     0.0  \n",
              "3                      0.0                                     0.0  \n",
              "4                      0.0                                     0.5  \n",
              "\n",
              "[5 rows x 13379 columns]"
            ],
            "text/html": [
              "\n",
              "  <div id=\"df-39e12082-90d3-4e0d-82a5-563f9130a738\">\n",
              "    <div class=\"colab-df-container\">\n",
              "      <div>\n",
              "<style scoped>\n",
              "    .dataframe tbody tr th:only-of-type {\n",
              "        vertical-align: middle;\n",
              "    }\n",
              "\n",
              "    .dataframe tbody tr th {\n",
              "        vertical-align: top;\n",
              "    }\n",
              "\n",
              "    .dataframe thead th {\n",
              "        text-align: right;\n",
              "    }\n",
              "</style>\n",
              "<table border=\"1\" class=\"dataframe\">\n",
              "  <thead>\n",
              "    <tr style=\"text-align: right;\">\n",
              "      <th>\"\"Book-Title\"\"</th>\n",
              "      <th>\"\"Book-Title\"\"</th>\n",
              "      <th>\"\"classical mythology\"\"</th>\n",
              "      <th>\"\"clara callan\"\"</th>\n",
              "      <th>\"\"decision in normandy\"\"</th>\n",
              "      <th>\"\"flu: the story of the great influenza pandemic of 1918 and the search for the virus that caused it\"\"</th>\n",
              "      <th>\"\"the kitchen god's wife\"\"</th>\n",
              "      <th>\"\"what if?: the world's foremost military historians imagine what might have been\"\"</th>\n",
              "      <th>\"\"pleading guilty\"\"</th>\n",
              "      <th>\"\"under the black flag: the romance and the reality of life among the pirates\"\"</th>\n",
              "      <th>\"\"where you'll find me: and other stories\"\"</th>\n",
              "      <th>...</th>\n",
              "      <th>\"\"becoming a contagious christian participant's guide\"\"</th>\n",
              "      <th>\"\"on the run\"\"</th>\n",
              "      <th>\"\"fire in the sun\"\"</th>\n",
              "      <th>\"\"a more perfect union\"\"</th>\n",
              "      <th>\"\"tarnished icons: an inspector porfiry posntnikov novel (inspector porfiry rostnikov novel)\"\"</th>\n",
              "      <th>\"\"for reading out loud!\"\"</th>\n",
              "      <th>\"\"brick lane: a novel\"\"</th>\n",
              "      <th>\"\"gandhi's way: a handbook of conflict resolution\"\"</th>\n",
              "      <th>\"\"cowboy\"\"</th>\n",
              "      <th>\"\"the barbarians are coming: a novel\"\"</th>\n",
              "    </tr>\n",
              "  </thead>\n",
              "  <tbody>\n",
              "    <tr>\n",
              "      <th>0</th>\n",
              "      <td>\"\"classical mythology\"\"</td>\n",
              "      <td>1.0</td>\n",
              "      <td>0.0</td>\n",
              "      <td>0.0</td>\n",
              "      <td>0.0</td>\n",
              "      <td>0.0</td>\n",
              "      <td>0.00</td>\n",
              "      <td>0.0</td>\n",
              "      <td>0.0</td>\n",
              "      <td>0.0</td>\n",
              "      <td>...</td>\n",
              "      <td>0.0</td>\n",
              "      <td>0.0</td>\n",
              "      <td>0.0</td>\n",
              "      <td>0.0</td>\n",
              "      <td>0.0</td>\n",
              "      <td>0.0</td>\n",
              "      <td>0.0</td>\n",
              "      <td>0.4</td>\n",
              "      <td>0.0</td>\n",
              "      <td>0.0</td>\n",
              "    </tr>\n",
              "    <tr>\n",
              "      <th>1</th>\n",
              "      <td>\"\"clara callan\"\"</td>\n",
              "      <td>0.0</td>\n",
              "      <td>1.0</td>\n",
              "      <td>0.0</td>\n",
              "      <td>0.0</td>\n",
              "      <td>0.0</td>\n",
              "      <td>0.00</td>\n",
              "      <td>0.0</td>\n",
              "      <td>0.0</td>\n",
              "      <td>0.0</td>\n",
              "      <td>...</td>\n",
              "      <td>0.0</td>\n",
              "      <td>0.0</td>\n",
              "      <td>0.0</td>\n",
              "      <td>0.0</td>\n",
              "      <td>0.0</td>\n",
              "      <td>0.0</td>\n",
              "      <td>0.0</td>\n",
              "      <td>0.0</td>\n",
              "      <td>0.0</td>\n",
              "      <td>0.0</td>\n",
              "    </tr>\n",
              "    <tr>\n",
              "      <th>2</th>\n",
              "      <td>\"\"decision in normandy\"\"</td>\n",
              "      <td>0.0</td>\n",
              "      <td>0.0</td>\n",
              "      <td>1.0</td>\n",
              "      <td>0.0</td>\n",
              "      <td>0.0</td>\n",
              "      <td>0.00</td>\n",
              "      <td>0.0</td>\n",
              "      <td>0.0</td>\n",
              "      <td>0.0</td>\n",
              "      <td>...</td>\n",
              "      <td>0.0</td>\n",
              "      <td>0.0</td>\n",
              "      <td>0.0</td>\n",
              "      <td>0.0</td>\n",
              "      <td>0.0</td>\n",
              "      <td>0.0</td>\n",
              "      <td>0.0</td>\n",
              "      <td>0.0</td>\n",
              "      <td>0.0</td>\n",
              "      <td>0.0</td>\n",
              "    </tr>\n",
              "    <tr>\n",
              "      <th>3</th>\n",
              "      <td>\"\"flu: the story of the great influenza pandem...</td>\n",
              "      <td>0.0</td>\n",
              "      <td>0.0</td>\n",
              "      <td>0.0</td>\n",
              "      <td>1.0</td>\n",
              "      <td>0.0</td>\n",
              "      <td>0.00</td>\n",
              "      <td>0.0</td>\n",
              "      <td>0.0</td>\n",
              "      <td>0.0</td>\n",
              "      <td>...</td>\n",
              "      <td>0.0</td>\n",
              "      <td>0.0</td>\n",
              "      <td>0.0</td>\n",
              "      <td>0.0</td>\n",
              "      <td>0.0</td>\n",
              "      <td>0.0</td>\n",
              "      <td>0.0</td>\n",
              "      <td>0.0</td>\n",
              "      <td>0.0</td>\n",
              "      <td>0.0</td>\n",
              "    </tr>\n",
              "    <tr>\n",
              "      <th>4</th>\n",
              "      <td>\"\"the kitchen god's wife\"\"</td>\n",
              "      <td>0.0</td>\n",
              "      <td>0.0</td>\n",
              "      <td>0.0</td>\n",
              "      <td>0.0</td>\n",
              "      <td>1.0</td>\n",
              "      <td>0.25</td>\n",
              "      <td>0.0</td>\n",
              "      <td>0.0</td>\n",
              "      <td>0.0</td>\n",
              "      <td>...</td>\n",
              "      <td>0.0</td>\n",
              "      <td>0.0</td>\n",
              "      <td>0.0</td>\n",
              "      <td>0.0</td>\n",
              "      <td>0.0</td>\n",
              "      <td>0.0</td>\n",
              "      <td>0.0</td>\n",
              "      <td>0.0</td>\n",
              "      <td>0.0</td>\n",
              "      <td>0.5</td>\n",
              "    </tr>\n",
              "  </tbody>\n",
              "</table>\n",
              "<p>5 rows × 13379 columns</p>\n",
              "</div>\n",
              "      <button class=\"colab-df-convert\" onclick=\"convertToInteractive('df-39e12082-90d3-4e0d-82a5-563f9130a738')\"\n",
              "              title=\"Convert this dataframe to an interactive table.\"\n",
              "              style=\"display:none;\">\n",
              "        \n",
              "  <svg xmlns=\"http://www.w3.org/2000/svg\" height=\"24px\"viewBox=\"0 0 24 24\"\n",
              "       width=\"24px\">\n",
              "    <path d=\"M0 0h24v24H0V0z\" fill=\"none\"/>\n",
              "    <path d=\"M18.56 5.44l.94 2.06.94-2.06 2.06-.94-2.06-.94-.94-2.06-.94 2.06-2.06.94zm-11 1L8.5 8.5l.94-2.06 2.06-.94-2.06-.94L8.5 2.5l-.94 2.06-2.06.94zm10 10l.94 2.06.94-2.06 2.06-.94-2.06-.94-.94-2.06-.94 2.06-2.06.94z\"/><path d=\"M17.41 7.96l-1.37-1.37c-.4-.4-.92-.59-1.43-.59-.52 0-1.04.2-1.43.59L10.3 9.45l-7.72 7.72c-.78.78-.78 2.05 0 2.83L4 21.41c.39.39.9.59 1.41.59.51 0 1.02-.2 1.41-.59l7.78-7.78 2.81-2.81c.8-.78.8-2.07 0-2.86zM5.41 20L4 18.59l7.72-7.72 1.47 1.35L5.41 20z\"/>\n",
              "  </svg>\n",
              "      </button>\n",
              "      \n",
              "  <style>\n",
              "    .colab-df-container {\n",
              "      display:flex;\n",
              "      flex-wrap:wrap;\n",
              "      gap: 12px;\n",
              "    }\n",
              "\n",
              "    .colab-df-convert {\n",
              "      background-color: #E8F0FE;\n",
              "      border: none;\n",
              "      border-radius: 50%;\n",
              "      cursor: pointer;\n",
              "      display: none;\n",
              "      fill: #1967D2;\n",
              "      height: 32px;\n",
              "      padding: 0 0 0 0;\n",
              "      width: 32px;\n",
              "    }\n",
              "\n",
              "    .colab-df-convert:hover {\n",
              "      background-color: #E2EBFA;\n",
              "      box-shadow: 0px 1px 2px rgba(60, 64, 67, 0.3), 0px 1px 3px 1px rgba(60, 64, 67, 0.15);\n",
              "      fill: #174EA6;\n",
              "    }\n",
              "\n",
              "    [theme=dark] .colab-df-convert {\n",
              "      background-color: #3B4455;\n",
              "      fill: #D2E3FC;\n",
              "    }\n",
              "\n",
              "    [theme=dark] .colab-df-convert:hover {\n",
              "      background-color: #434B5C;\n",
              "      box-shadow: 0px 1px 3px 1px rgba(0, 0, 0, 0.15);\n",
              "      filter: drop-shadow(0px 1px 2px rgba(0, 0, 0, 0.3));\n",
              "      fill: #FFFFFF;\n",
              "    }\n",
              "  </style>\n",
              "\n",
              "      <script>\n",
              "        const buttonEl =\n",
              "          document.querySelector('#df-39e12082-90d3-4e0d-82a5-563f9130a738 button.colab-df-convert');\n",
              "        buttonEl.style.display =\n",
              "          google.colab.kernel.accessAllowed ? 'block' : 'none';\n",
              "\n",
              "        async function convertToInteractive(key) {\n",
              "          const element = document.querySelector('#df-39e12082-90d3-4e0d-82a5-563f9130a738');\n",
              "          const dataTable =\n",
              "            await google.colab.kernel.invokeFunction('convertToInteractive',\n",
              "                                                     [key], {});\n",
              "          if (!dataTable) return;\n",
              "\n",
              "          const docLinkHtml = 'Like what you see? Visit the ' +\n",
              "            '<a target=\"_blank\" href=https://colab.research.google.com/notebooks/data_table.ipynb>data table notebook</a>'\n",
              "            + ' to learn more about interactive tables.';\n",
              "          element.innerHTML = '';\n",
              "          dataTable['output_type'] = 'display_data';\n",
              "          await google.colab.output.renderOutput(dataTable, element);\n",
              "          const docLink = document.createElement('div');\n",
              "          docLink.innerHTML = docLinkHtml;\n",
              "          element.appendChild(docLink);\n",
              "        }\n",
              "      </script>\n",
              "    </div>\n",
              "  </div>\n",
              "  "
            ]
          },
          "metadata": {},
          "execution_count": 24
        }
      ]
    },
    {
      "cell_type": "markdown",
      "source": [
        "# Displaying User Recommendations"
      ],
      "metadata": {
        "id": "-iH-bvYxWLCN"
      }
    },
    {
      "cell_type": "code",
      "source": [
        "input_book = '\"\"decision in normandy\"\"'\n",
        "recommendations = pd.DataFrame(df.nlargest(10,input_book)['\"\"Book-Title\"\"'])\n",
        "recommendations = recommendations[recommendations['\"\"Book-Title\"\"']!=input_book]\n",
        "print(recommendations)"
      ],
      "metadata": {
        "colab": {
          "base_uri": "https://localhost:8080/"
        },
        "id": "yXZXad-vK3cU",
        "outputId": "73328d7a-5e71-4661-909a-c9692f8e8f65"
      },
      "execution_count": null,
      "outputs": [
        {
          "output_type": "stream",
          "name": "stdout",
          "text": [
            "                                      \"\"Book-Title\"\"\n",
            "0                            \"\"classical mythology\"\"\n",
            "1                                   \"\"clara callan\"\"\n",
            "3  \"\"flu: the story of the great influenza pandem...\n",
            "4                         \"\"the kitchen god's wife\"\"\n",
            "5  \"\"what if?: the world's foremost military hist...\n",
            "6                                \"\"pleading guilty\"\"\n",
            "7  \"\"under the black flag: the romance and the re...\n",
            "8        \"\"where you'll find me: and other stories\"\"\n",
            "9                    \"\"nights below station street\"\"\n"
          ]
        }
      ]
    }
  ]
}